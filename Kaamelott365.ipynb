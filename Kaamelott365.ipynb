{
 "metadata": {
  "name": "",
  "signature": "sha256:5bba615fa78888d37a640d847576ca396dced04a91898001ba2277e88ace36d3"
 },
 "nbformat": 3,
 "nbformat_minor": 0,
 "worksheets": [
  {
   "cells": [
    {
     "cell_type": "markdown",
     "metadata": {},
     "source": [
      "#Kaamelott 365"
     ]
    },
    {
     "cell_type": "markdown",
     "metadata": {},
     "source": [
      "The objective of this little exercice is to scrap the quotes from the french TV Show \"Kaamelott\" from wikiquote, and tweet each day one of them "
     ]
    },
    {
     "cell_type": "markdown",
     "metadata": {},
     "source": [
      "## Scraping the wikipedia page"
     ]
    },
    {
     "cell_type": "code",
     "collapsed": false,
     "input": [
      "from numpy import genfromtxt\n",
      "import random\n",
      "from bs4 import BeautifulSoup\n",
      "import requests\n",
      "import tweepy, sys\n",
      "import os\n",
      "global result"
     ],
     "language": "python",
     "metadata": {},
     "outputs": [],
     "prompt_number": 1
    },
    {
     "cell_type": "code",
     "collapsed": false,
     "input": [
      "def get_citation(html):\n",
      "    soup = BeautifulSoup(html)\n",
      "    quotes = []\n",
      "    for quote in soup.find_all('span', 'citation'):\n",
      "        if quote.string != None:\n",
      "            quotes.append(quote.string)\n",
      "    return quotes"
     ],
     "language": "python",
     "metadata": {},
     "outputs": [],
     "prompt_number": 2
    },
    {
     "cell_type": "code",
     "collapsed": false,
     "input": [
      "def clean_quote(quote):\n",
      "    if quote[0] == ')':\n",
      "        quote = quote[2::]\n",
      "    return quote"
     ],
     "language": "python",
     "metadata": {},
     "outputs": [],
     "prompt_number": 3
    },
    {
     "cell_type": "code",
     "collapsed": false,
     "input": [
      "def fill_citation_dict():\n",
      "    base_url = 'http://fr.wikiquote.org'\n",
      "    url = 'http://fr.wikiquote.org/wiki/Kaamelott'\n",
      "    r = requests.get(url).text\n",
      "    soup = BeautifulSoup(r)\n",
      "    # Initialize variables\n",
      "    perso_names = []\n",
      "    quote_lists = []\n",
      "    quote_list = []\n",
      "    for name in soup.find_all('span', 'mw-headline'):\n",
      "        names_to_exclude = ['Extraits de dialogues','Citations des personnages', u'Citations des bandes dessin\\xe9es']\n",
      "        if name.string not in names_to_exclude:\n",
      "            perso_names.append(name.string)\n",
      "\n",
      "    for h3_tag in soup.find_all('h3'):\n",
      "        for e in h3_tag.next_siblings:\n",
      "            if e.name == 'p':\n",
      "                if e.next_element.name == 'span':\n",
      "                    if e.next_element.string == None: # to manage when an inner tag <i>\n",
      "                        if e.next_element.next_element.next_sibling.next_sibling != None:              \n",
      "                            quote_list.append(clean_quote(e.next_element.next_element.next_sibling.next_sibling))\n",
      "                    else:\n",
      "                        if e.next_element.string != None:\n",
      "                            quote_list.append(e.next_element.string)\n",
      "\n",
      "            elif e.name == 'dl': # if Voir le recueil exception\n",
      "                next_url = e.find('a').get('href')\n",
      "                deeper_request = requests.get(base_url + next_url).text\n",
      "                quote_lists.append(get_citation(deeper_request))\n",
      "                break\n",
      "\n",
      "            elif e.name == 'h3' or e.name == 'h2': # If the next sibling is an h3 or an h2 -for last item-, increment to this as new h3 tag\n",
      "                quote_lists.append(quote_list)\n",
      "                quote_list = [] # empty the quote list of this person\n",
      "                break\n",
      "    result = dict(zip(perso_names, quote_lists))\n",
      "    return result"
     ],
     "language": "python",
     "metadata": {},
     "outputs": [],
     "prompt_number": 4
    },
    {
     "cell_type": "code",
     "collapsed": false,
     "input": [
      "result = fill_citation_dict()\n",
      "result['Arthur'][0]"
     ],
     "language": "python",
     "metadata": {},
     "outputs": [
      {
       "metadata": {},
       "output_type": "pyout",
       "prompt_number": 5,
       "text": [
        "u\"Cassez-vous\\xa0! Cassez-vous\\xa0! Cassez-vous\\xa0! D\\xe9carrez d\\u2019chez moi, bande de clampins\\xa0! Taillez-vous vite fait\\xa0! Et j\\u2019vous conseille de vous mettre au turbin, vous m\\u2019entendez\\xa0? Et le prochain qui se pointe avec un prototype, un vase \\xe0 fleurs ou le pot de chambre de sa mamie, j\\u2019l\\u2019envoie garder les moutons dans les Highlands, pig\\xe9\\xa0?! Et tenez, reprenez vos merdes\\xa0! J'suis pas vide-grenier\\xa0!\""
       ]
      }
     ],
     "prompt_number": 5
    },
    {
     "cell_type": "markdown",
     "metadata": {},
     "source": [
      "## Some perso have no citation on this url, follow the next url and scrap their citation and save it in the dict"
     ]
    },
    {
     "cell_type": "markdown",
     "metadata": {},
     "source": [
      "## Pick a random citation from a random person"
     ]
    },
    {
     "cell_type": "markdown",
     "metadata": {},
     "source": [
      "### Test of bug on 1000 trial"
     ]
    },
    {
     "cell_type": "code",
     "collapsed": false,
     "input": [
      "def test(nb_trial):\n",
      "    nb_error = 0\n",
      "    for i in range(0, nb_trial):\n",
      "        perso_names = result.keys()\n",
      "        perso_random_index = random.randrange(0,len(perso_names))\n",
      "        perso_random = perso_names[perso_random_index]\n",
      "\n",
      "        if len(result[perso_random])>0:\n",
      "            citation_index = random.randrange(0, len(result[perso_random]))\n",
      "        else:\n",
      "            print 'no citation for perso %s' %perso_random\n",
      "            nb_error += 1\n",
      "    print 'number of errors is %i on %i trials' % (nb_error, nb_trial) "
     ],
     "language": "python",
     "metadata": {},
     "outputs": [],
     "prompt_number": 6
    },
    {
     "cell_type": "code",
     "collapsed": false,
     "input": [
      "test(100)"
     ],
     "language": "python",
     "metadata": {},
     "outputs": [
      {
       "output_type": "stream",
       "stream": "stdout",
       "text": [
        "no citation for perso Belt\n",
        "number of errors is 1 on 100 trials\n"
       ]
      }
     ],
     "prompt_number": 7
    },
    {
     "cell_type": "code",
     "collapsed": false,
     "input": [
      "def choose_citation():\n",
      "    char_for_sign = 0\n",
      "    perso_names = result.keys()\n",
      "    perso_random_index = random.randrange(0,len(perso_names))\n",
      "    perso_random = perso_names[perso_random_index]\n",
      "    try: #handle exception where just one citation which outs randrange to error\n",
      "        citation_index = random.randrange(0, len(result[perso_random]))\n",
      "    except:\n",
      "        citation_index = 0\n",
      "\n",
      "    while( len(result[perso_random]) == 0): # while there is no quote for someone reroll\n",
      "        perso_random_index = random.randrange(0,len(perso_names))\n",
      "        perso_random = perso_names[perso_random_index]\n",
      "    \n",
      "    output = result[perso_random][citation_index]\n",
      "    if len(output) > 0:\n",
      "        output = '\"' + output + '\"'\n",
      "    \n",
      "    if len(output) + len(perso_random) + 2 > 140: #if too many char to put citation and signature\n",
      "        char_for_sign = 140 - len(perso_random) - 8    \n",
      "        \n",
      "        if output[char_for_sign - 1] != ' ': #if last char before sign is not a space, try one before\n",
      "            while output[char_for_sign -1] != ' ':\n",
      "                char_for_sign -= 1   \n",
      "\n",
      "        output = output[0:char_for_sign] + '[...]\"- ' + perso_random #we trim at output - space for signature including added chars\n",
      "    \n",
      "    else:\n",
      "        output = output + '- ' + perso_random\n",
      "    return output "
     ],
     "language": "python",
     "metadata": {},
     "outputs": [],
     "prompt_number": 90
    },
    {
     "cell_type": "code",
     "collapsed": false,
     "input": [
      "def tweet_citation():\n",
      "    tokens = genfromtxt('.tokens.dat', dtype=None)\n",
      "    consumer_key = tokens[0]\n",
      "    consumer_secret = tokens[1]\n",
      "    access_token = tokens[2]\n",
      "    access_token_secret = tokens[3]\n",
      "## for heroku servers\n",
      "#     consumer_key = os.environ['CONS_KEY']\n",
      "#     consumer_secret = os.environ['CONS_SEC']\n",
      "#     access_token = os.environ['ACC_TOK']\n",
      "#     access_token_secret = os.environ['ACC_TOK_SECR']\n",
      "    \n",
      "    auth = tweepy.OAuthHandler(consumer_key, consumer_secret)\n",
      "    auth.set_access_token(access_token, access_token_secret)\n",
      "    api = tweepy.API(auth)\n",
      "    \n",
      "    print \"Successfully logged in as \" + api.me().name + \".\"\n",
      "    \n",
      "    chosen_citation = choose_citation()\n",
      "\n",
      "    while (len(chosen_citation) > 140 or len(chosen_citation) == 0):\n",
      "        chosen_citation = choose_citation()\n",
      "    print chosen_citation\n",
      "\n",
      "    try:\n",
      "        api.update_status(chosen_citation)\n",
      "        print \"Successfully tweeted:\"\n",
      "    except:\n",
      "        print \"Something went wrong: either your tweet was too long or you didn't pass in a string argument at launch.\"\n",
      "    finally:\n",
      "        print \"Shutting down script...\""
     ],
     "language": "python",
     "metadata": {},
     "outputs": [],
     "prompt_number": 94
    },
    {
     "cell_type": "code",
     "collapsed": false,
     "input": [
      "def main():\n",
      "    tweet_citation()"
     ],
     "language": "python",
     "metadata": {},
     "outputs": [],
     "prompt_number": 95
    },
    {
     "cell_type": "code",
     "collapsed": false,
     "input": [
      "if __name__ == \"__main__\":\n",
      "    main()"
     ],
     "language": "python",
     "metadata": {},
     "outputs": [
      {
       "output_type": "stream",
       "stream": "stdout",
       "text": [
        "Successfully logged in as kaamelott365.\n",
        "\"(\u00c0 Merlin) Une pluie de pierres en int\u00e9rieur donc\u00a0! Je vous prenais pour un pied de chaise mais vous \u00eates un [...]\"- \u00c9lias de Kelliwic\u2019h\n"
       ]
      }
     ],
     "prompt_number": 98
    },
    {
     "cell_type": "code",
     "collapsed": false,
     "input": [],
     "language": "python",
     "metadata": {},
     "outputs": []
    }
   ],
   "metadata": {}
  }
 ]
}