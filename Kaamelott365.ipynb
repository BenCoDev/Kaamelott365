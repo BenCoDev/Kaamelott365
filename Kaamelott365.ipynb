{
 "metadata": {
  "name": "",
  "signature": "sha256:96620766578e4218d10b8b811d18c69869141947d0a5ddc644b0b5cf03dc756d"
 },
 "nbformat": 3,
 "nbformat_minor": 0,
 "worksheets": [
  {
   "cells": [
    {
     "cell_type": "markdown",
     "metadata": {},
     "source": [
      "#Kaamelott 365"
     ]
    },
    {
     "cell_type": "markdown",
     "metadata": {},
     "source": [
      "The objective of this little exercice is to scrap the quotes from the french TV Show \"Kaamelott\" from wikiquote, and tweet each day one of them "
     ]
    },
    {
     "cell_type": "markdown",
     "metadata": {},
     "source": [
      "## Scraping the wikipedia page"
     ]
    },
    {
     "cell_type": "code",
     "collapsed": false,
     "input": [
      "import requests\n",
      "import numpy\n",
      "import pandas as pd\n",
      "from pattern import web\n",
      "from bs4 import BeautifulSoup\n",
      "import random\n",
      "\n",
      "def get_citation(html):\n",
      "    soup = BeautifulSoup(html)\n",
      "    quotes = []\n",
      "    for quote in soup.find_all('span', 'citation'):\n",
      "        if quote.string != None:\n",
      "            quotes.append(quote.string)\n",
      "    return quotes\n",
      "\n",
      "def clean_quote(quote):\n",
      "    if quote[0] == ')':\n",
      "        quote = quote[2::]\n",
      "    return quote\n",
      "\n",
      "base_url = 'http://fr.wikiquote.org'\n",
      "url = 'http://fr.wikiquote.org/wiki/Kaamelott'\n",
      "r = requests.get(url).text\n",
      "soup = BeautifulSoup(r)\n",
      "\n",
      "\n",
      "# Initialize variables\n",
      "perso_names = []\n",
      "quote_lists = []\n",
      "quote_list = []\n",
      "\n",
      "for name in soup.find_all('span', 'mw-headline'):\n",
      "    names_to_exclude = ['Extraits de dialogues','Citations des personnages', u'Citations des bandes dessin\\xe9es']\n",
      "    if name.string not in names_to_exclude:\n",
      "        perso_names.append(name.string)\n",
      "        \n",
      "for h3_tag in soup.find_all('h3'):\n",
      "    for e in h3_tag.next_siblings:\n",
      "        if e.name == 'p':\n",
      "            if e.next_element.name == 'span':\n",
      "                if e.next_element.string == None: # to manage when an inner tag <i>\n",
      "                    if e.next_element.next_element.next_sibling.next_sibling != None:              \n",
      "                        quote_list.append(clean_quote(e.next_element.next_element.next_sibling.next_sibling))\n",
      "                else:\n",
      "                    if e.next_element.string != None:\n",
      "                        quote_list.append(e.next_element.string)\n",
      "                    \n",
      "        elif e.name == 'dl': # if Voir le recueil exception\n",
      "            next_url = e.find('a').get('href')\n",
      "            deeper_request = requests.get(base_url + next_url).text\n",
      "            quote_lists.append(get_citation(deeper_request))\n",
      "            break\n",
      "\n",
      "        elif e.name == 'h3' or e.name == 'h2': # If the next sibling is an h3 or an h2 -for last item-, increment to this as new h3 tag\n",
      "            quote_lists.append(quote_list)\n",
      "            quote_list = [] # empty the quote list of this person\n",
      "            break\n",
      "\n",
      "result = dict(zip(perso_names, quote_lists))"
     ],
     "language": "python",
     "metadata": {},
     "outputs": [],
     "prompt_number": 6
    },
    {
     "cell_type": "code",
     "collapsed": false,
     "input": [
      "result['Arthur'][0]\n"
     ],
     "language": "python",
     "metadata": {},
     "outputs": [
      {
       "metadata": {},
       "output_type": "pyout",
       "prompt_number": 7,
       "text": [
        "u\"Cassez-vous\\xa0! Cassez-vous\\xa0! Cassez-vous\\xa0! D\\xe9carrez d\\u2019chez moi, bande de clampins\\xa0! Taillez-vous vite fait\\xa0! Et j\\u2019vous conseille de vous mettre au turbin, vous m\\u2019entendez\\xa0? Et le prochain qui se pointe avec un prototype, un vase \\xe0 fleurs ou le pot de chambre de sa mamie, j\\u2019l\\u2019envoie garder les moutons dans les Highlands, pig\\xe9\\xa0?! Et tenez, reprenez vos merdes\\xa0! J'suis pas vide-grenier\\xa0!\""
       ]
      }
     ],
     "prompt_number": 7
    },
    {
     "cell_type": "markdown",
     "metadata": {},
     "source": [
      "## Some perso have no citation on this url, follow the next url and scrap their citation and save it in the dict"
     ]
    },
    {
     "cell_type": "code",
     "collapsed": false,
     "input": [
      "# Test if every person has at leat one quote\n",
      "for key in result:\n",
      "    if len(result[key]) == 0:\n",
      "        print key\n",
      "    else:\n",
      "        print 'seems ok'\n",
      "\n",
      "for key in result:\n",
      "    for idx, val in enumerate(result[key]):\n",
      "        if result[key][idx] == None:\n",
      "            print 'problem'\n",
      "\n",
      "    \n"
     ],
     "language": "python",
     "metadata": {},
     "outputs": [
      {
       "output_type": "stream",
       "stream": "stdout",
       "text": [
        "seems ok\n",
        "seems ok\n",
        "seems ok\n",
        "seems ok\n",
        "seems ok\n",
        "seems ok\n",
        "seems ok\n",
        "seems ok\n",
        "seems ok\n",
        "seems ok\n",
        "seems ok\n",
        "seems ok\n",
        "seems ok\n",
        "seems ok\n",
        "seems ok\n",
        "seems ok\n",
        "seems ok\n",
        "seems ok\n",
        "seems ok\n",
        "seems ok\n",
        "seems ok\n",
        "seems ok\n",
        "seems ok\n",
        "seems ok\n",
        "seems ok\n",
        "seems ok\n",
        "seems ok\n",
        "seems ok\n",
        "seems ok\n",
        "seems ok\n",
        "seems ok\n",
        "seems ok\n",
        "seems ok\n",
        "seems ok\n",
        "seems ok\n",
        "seems ok\n",
        "seems ok\n",
        "seems ok\n",
        "seems ok\n",
        "seems ok\n",
        "seems ok\n",
        "seems ok\n",
        "seems ok\n",
        "seems ok\n",
        "seems ok\n",
        "seems ok\n",
        "seems ok\n",
        "seems ok\n",
        "seems ok\n",
        "seems ok\n",
        "seems ok\n",
        "seems ok\n",
        "seems ok\n",
        "Belt\n",
        "seems ok\n",
        "seems ok\n"
       ]
      }
     ],
     "prompt_number": 8
    },
    {
     "cell_type": "markdown",
     "metadata": {},
     "source": [
      "## Pick a random citation from a random person"
     ]
    },
    {
     "cell_type": "markdown",
     "metadata": {},
     "source": [
      "### Test of bug on 1000 trial"
     ]
    },
    {
     "cell_type": "code",
     "collapsed": false,
     "input": [
      "i = 0\n",
      "for i in range(0, 1000):\n",
      "    perso_random_index = random.randrange(0,len(perso_names))\n",
      "    perso_random = perso_names[perso_random_index]\n",
      "\n",
      "    if len(result[perso_random])>0:\n",
      "        citation_index = random.randrange(0, len(result[perso_random]))\n",
      "    else:\n",
      "        print 'no no no'\n",
      "        print perso_random\n",
      "        i += 1\n",
      "\n",
      "print i\n"
     ],
     "language": "python",
     "metadata": {},
     "outputs": [
      {
       "output_type": "stream",
       "stream": "stdout",
       "text": [
        "no no no\n",
        "Belt\n",
        "no no no\n",
        "Belt\n",
        "no no no\n",
        "Belt\n",
        "no no no\n",
        "Belt\n",
        "no no no\n",
        "Belt\n",
        "no no no\n",
        "Belt\n",
        "no no no\n",
        "Belt\n",
        "no no no\n",
        "Belt\n",
        "no no no\n",
        "Belt\n",
        "no no no\n",
        "Belt\n",
        "no no no\n",
        "Belt\n",
        "no no no\n",
        "Belt\n",
        "no no no\n",
        "Belt\n",
        "no no no\n",
        "Belt\n",
        "no no no\n",
        "Belt\n",
        "999\n"
       ]
      }
     ],
     "prompt_number": 9
    },
    {
     "cell_type": "code",
     "collapsed": false,
     "input": [
      "\n",
      "def choose_citation():\n",
      "    perso_random_index = random.randrange(0,len(perso_names))\n",
      "    perso_random = perso_names[perso_random_index]\n",
      "\n",
      "    while( len(result[perso_random]) == 0): # while there is no quote for someone reroll\n",
      "        perso_random_index = random.randrange(0,len(perso_names))\n",
      "        perso_random = perso_names[perso_random_index]\n",
      "        \n",
      "    output = '\"' + result[perso_random][citation_index] + '\"' + '- ' + perso_random\n",
      "    return output\n",
      "\n",
      "print choose_citation()\n"
     ],
     "language": "python",
     "metadata": {},
     "outputs": [
      {
       "output_type": "stream",
       "stream": "stdout",
       "text": [
        "\"Je vais le tuer, Sire\u00a0! Je vais tellement si tant y taper sa gueule qu'il va d\u00e9c\u00e9der\u00a0!\"- Roparzh\n"
       ]
      }
     ],
     "prompt_number": 35
    },
    {
     "cell_type": "code",
     "collapsed": false,
     "input": [
      "import tweepy, sys\n",
      "from numpy import genfromtxt\n",
      "tokens = genfromtxt('tokens.dat',dtype=None)\n",
      "\n",
      "def tweet_citation(tokens):\n",
      "    consumer_key = tokens[0]\n",
      "    consumer_secret = tokens[1]\n",
      "    access_token = tokens[2]\n",
      "    access_token_secret = tokens[3]\n",
      "    \n",
      "    auth = tweepy.OAuthHandler(consumer_key, consumer_secret)\n",
      "    auth.set_access_token(access_token, access_token_secret)\n",
      "    api = tweepy.API(auth)\n",
      "    \n",
      "    print \"Successfully logged in as \" + api.me().name + \".\"\n",
      "    \n",
      "    chosen_citation = choose_citation()\n",
      "    while (len(chosen_citation) > 140):\n",
      "        chosen_citation = choose_citation()\n",
      "        \n",
      "    try:\n",
      "        api.update_status(chosen_citation)\n",
      "        print \"Successfully tweeted: \" + \"'\" + chosen_citation + \"'!\"\n",
      "    except:\n",
      "        print \"Something went wrong: either your tweet was too long or you didn't pass in a string argument at launch.\"\n",
      "    finally:\n",
      "        print \"Shutting down script...\"\n",
      "\n",
      "tweet_citation(tokens)\n"
     ],
     "language": "python",
     "metadata": {},
     "outputs": [
      {
       "output_type": "stream",
       "stream": "stdout",
       "text": [
        "Successfully logged in as kaamelott365.\n",
        "Successfully tweeted: '\"Je refuse d\u2019aller me battre pour soutenir une politique d\u2019expansion territoriale dont je ne reconnais pas la l\u00e9gitimit\u00e9.\"- Yvain'!"
       ]
      },
      {
       "output_type": "stream",
       "stream": "stdout",
       "text": [
        "\n",
        "Shutting down script...\n"
       ]
      }
     ],
     "prompt_number": 37
    },
    {
     "cell_type": "code",
     "collapsed": false,
     "input": [],
     "language": "python",
     "metadata": {},
     "outputs": []
    }
   ],
   "metadata": {}
  }
 ]
}